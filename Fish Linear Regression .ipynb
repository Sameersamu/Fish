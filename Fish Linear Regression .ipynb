{
 "cells": [
  {
   "cell_type": "code",
   "execution_count": 1,
   "id": "826f79f6",
   "metadata": {},
   "outputs": [],
   "source": [
    "import pandas as pd\n",
    "import numpy as np\n",
    "import matplotlib.pyplot as plt\n",
    "import seaborn as sns\n",
    "from scipy import stats\n",
    "from statsmodels.formula.api import ols\n",
    "from statsmodels.stats.multicomp import pairwise_tukeyhsd\n",
    "import statsmodels.formula.api as smf\n",
    "import statsmodels.api as sm\n",
    "import scipy\n",
    "from statsmodels.stats.outliers_influence import variance_inflation_factor\n",
    "pd.set_option('display.max_column',None)\n",
    "from sklearn.linear_model import LinearRegression\n",
    "from warnings import filterwarnings"
   ]
  },
  {
   "cell_type": "code",
   "execution_count": 2,
   "id": "95684bd5",
   "metadata": {},
   "outputs": [],
   "source": [
    "df = pd.read_csv('Fish.csv')"
   ]
  },
  {
   "cell_type": "code",
   "execution_count": 3,
   "id": "68780d49",
   "metadata": {},
   "outputs": [
    {
     "data": {
      "text/html": [
       "<div>\n",
       "<style scoped>\n",
       "    .dataframe tbody tr th:only-of-type {\n",
       "        vertical-align: middle;\n",
       "    }\n",
       "\n",
       "    .dataframe tbody tr th {\n",
       "        vertical-align: top;\n",
       "    }\n",
       "\n",
       "    .dataframe thead th {\n",
       "        text-align: right;\n",
       "    }\n",
       "</style>\n",
       "<table border=\"1\" class=\"dataframe\">\n",
       "  <thead>\n",
       "    <tr style=\"text-align: right;\">\n",
       "      <th></th>\n",
       "      <th>Species</th>\n",
       "      <th>Weight</th>\n",
       "      <th>Length1</th>\n",
       "      <th>Length2</th>\n",
       "      <th>Length3</th>\n",
       "      <th>Height</th>\n",
       "      <th>Width</th>\n",
       "    </tr>\n",
       "  </thead>\n",
       "  <tbody>\n",
       "    <tr>\n",
       "      <th>0</th>\n",
       "      <td>Bream</td>\n",
       "      <td>242.0</td>\n",
       "      <td>23.2</td>\n",
       "      <td>25.4</td>\n",
       "      <td>30.0</td>\n",
       "      <td>11.5200</td>\n",
       "      <td>4.0200</td>\n",
       "    </tr>\n",
       "    <tr>\n",
       "      <th>1</th>\n",
       "      <td>Bream</td>\n",
       "      <td>290.0</td>\n",
       "      <td>24.0</td>\n",
       "      <td>26.3</td>\n",
       "      <td>31.2</td>\n",
       "      <td>12.4800</td>\n",
       "      <td>4.3056</td>\n",
       "    </tr>\n",
       "    <tr>\n",
       "      <th>2</th>\n",
       "      <td>Bream</td>\n",
       "      <td>340.0</td>\n",
       "      <td>23.9</td>\n",
       "      <td>26.5</td>\n",
       "      <td>31.1</td>\n",
       "      <td>12.3778</td>\n",
       "      <td>4.6961</td>\n",
       "    </tr>\n",
       "    <tr>\n",
       "      <th>3</th>\n",
       "      <td>Bream</td>\n",
       "      <td>363.0</td>\n",
       "      <td>26.3</td>\n",
       "      <td>29.0</td>\n",
       "      <td>33.5</td>\n",
       "      <td>12.7300</td>\n",
       "      <td>4.4555</td>\n",
       "    </tr>\n",
       "    <tr>\n",
       "      <th>4</th>\n",
       "      <td>Bream</td>\n",
       "      <td>430.0</td>\n",
       "      <td>26.5</td>\n",
       "      <td>29.0</td>\n",
       "      <td>34.0</td>\n",
       "      <td>12.4440</td>\n",
       "      <td>5.1340</td>\n",
       "    </tr>\n",
       "  </tbody>\n",
       "</table>\n",
       "</div>"
      ],
      "text/plain": [
       "  Species  Weight  Length1  Length2  Length3   Height   Width\n",
       "0   Bream   242.0     23.2     25.4     30.0  11.5200  4.0200\n",
       "1   Bream   290.0     24.0     26.3     31.2  12.4800  4.3056\n",
       "2   Bream   340.0     23.9     26.5     31.1  12.3778  4.6961\n",
       "3   Bream   363.0     26.3     29.0     33.5  12.7300  4.4555\n",
       "4   Bream   430.0     26.5     29.0     34.0  12.4440  5.1340"
      ]
     },
     "execution_count": 3,
     "metadata": {},
     "output_type": "execute_result"
    }
   ],
   "source": [
    "df.head()"
   ]
  },
  {
   "cell_type": "code",
   "execution_count": 4,
   "id": "79870fde",
   "metadata": {},
   "outputs": [
    {
     "data": {
      "text/plain": [
       "(159, 7)"
      ]
     },
     "execution_count": 4,
     "metadata": {},
     "output_type": "execute_result"
    }
   ],
   "source": [
    "df.shape"
   ]
  },
  {
   "cell_type": "code",
   "execution_count": 5,
   "id": "a51cd671",
   "metadata": {},
   "outputs": [
    {
     "data": {
      "text/plain": [
       "<AxesSubplot:xlabel='Species', ylabel='count'>"
      ]
     },
     "execution_count": 5,
     "metadata": {},
     "output_type": "execute_result"
    },
    {
     "data": {
      "image/png": "[encoded data removed]",
      "text/plain": [
       "<Figure size 432x288 with 1 Axes>"
      ]
     },
     "metadata": {
      "needs_background": "light"
     },
     "output_type": "display_data"
    }
   ],
   "source": [
    "sns.countplot(x =\"Species\", data = df)\n"
   ]
  },
  {
   "cell_type": "code",
   "execution_count": 6,
   "id": "a5d7018b",
   "metadata": {},
   "outputs": [
    {
     "name": "stderr",
     "output_type": "stream",
     "text": [
      "C:\\Anaconda\\lib\\site-packages\\seaborn\\_decorators.py:36: FutureWarning: Pass the following variables as keyword args: x, y. From version 0.12, the only valid positional argument will be `data`, and passing other arguments without an explicit keyword will result in an error or misinterpretation.\n",
      "  warnings.warn(\n",
      "C:\\Anaconda\\lib\\site-packages\\seaborn\\categorical.py:1296: UserWarning: 10.7% of the points cannot be placed; you may want to decrease the size of the markers or use stripplot.\n",
      "  warnings.warn(msg, UserWarning)\n",
      "C:\\Anaconda\\lib\\site-packages\\seaborn\\categorical.py:1296: UserWarning: 50.0% of the points cannot be placed; you may want to decrease the size of the markers or use stripplot.\n",
      "  warnings.warn(msg, UserWarning)\n"
     ]
    },
    {
     "data": {
      "text/plain": [
       "Text(0.5, 1.0, 'swarmplot of species vs weight')"
      ]
     },
     "execution_count": 6,
     "metadata": {},
     "output_type": "execute_result"
    },
    {
     "data": {
      "image/png": "[encoded data removed]",
      "text/plain": [
       "<Figure size 432x288 with 1 Axes>"
      ]
     },
     "metadata": {
      "needs_background": "light"
     },
     "output_type": "display_data"
    }
   ],
   "source": [
    "sns.swarmplot(df.Species,df.Weight)\n",
    "plt.title(\"swarmplot of species vs weight\")"
   ]
  },
  {
   "cell_type": "code",
   "execution_count": 7,
   "id": "62fec0cc",
   "metadata": {},
   "outputs": [
    {
     "name": "stdout",
     "output_type": "stream",
     "text": [
      "             df        sum_sq       mean_sq          F        PR(>F)\n",
      "Species     6.0  7.515048e+06  1.252508e+06  14.952487  2.112653e-13\n",
      "Residual  152.0  1.273241e+07  8.376586e+04        NaN           NaN\n"
     ]
    }
   ],
   "source": [
    "mod = ols ('Weight~Species',data=df).fit()\n",
    "aov_table = sm.stats.anova_lm(mod,type=2)\n",
    "print(aov_table)"
   ]
  },
  {
   "cell_type": "code",
   "execution_count": 8,
   "id": "9511e835",
   "metadata": {},
   "outputs": [
    {
     "data": {
      "text/plain": [
       "<AxesSubplot:xlabel='Species', ylabel='Weight'>"
      ]
     },
     "execution_count": 8,
     "metadata": {},
     "output_type": "execute_result"
    },
    {
     "data": {
      "image/png": "[encoded data removed]",
      "text/plain": [
       "<Figure size 432x288 with 1 Axes>"
      ]
     },
     "metadata": {
      "needs_background": "light"
     },
     "output_type": "display_data"
    }
   ],
   "source": [
    "sns.boxplot(x='Species',y='Weight',data = df)\n"
   ]
  },
  {
   "cell_type": "code",
   "execution_count": 9,
   "id": "1442d18e",
   "metadata": {
    "scrolled": false
   },
   "outputs": [
    {
     "name": "stdout",
     "output_type": "stream",
     "text": [
      "     Multiple Comparison of Means - Tukey HSD, FWER=0.05     \n",
      "=============================================================\n",
      "group1   group2   meandiff p-adj    lower      upper   reject\n",
      "-------------------------------------------------------------\n",
      " Bream    Parkki -463.0104  0.001   -761.953 -164.0678   True\n",
      " Bream     Perch -235.5893 0.0042  -421.9404  -49.2382   True\n",
      " Bream      Pike  100.8773    0.9  -154.7943  356.5489  False\n",
      " Bream     Roach -465.7786  0.001  -708.2003 -223.3568   True\n",
      " Bream     Smelt   -606.65  0.001  -880.1386 -333.1614   True\n",
      " Bream Whitefish  -86.8286    0.9  -468.9677  295.3106  False\n",
      "Parkki     Perch  227.4211 0.2132    -57.803  512.6453  False\n",
      "Parkki      Pike  563.8877  0.001   229.2326  898.5428   True\n",
      "Parkki     Roach   -2.7682    0.9  -327.4132  321.8768  False\n",
      "Parkki     Smelt -143.6396 0.8731  -492.0964  204.8171  False\n",
      "Parkki Whitefish  376.1818 0.1455   -62.7446  815.1083  False\n",
      " Perch      Pike  336.4666  0.001    96.9795  575.9537   True\n",
      " Perch     Roach -230.1893 0.0418  -455.4768   -4.9018   True\n",
      " Perch     Smelt -371.0607  0.001  -629.4832 -112.6383   True\n",
      " Perch Whitefish  148.7607 0.8935   -222.745  520.2664  False\n",
      "  Pike     Roach -566.6559  0.001  -851.9551 -281.3566   True\n",
      "  Pike     Smelt -707.5273  0.001 -1019.6545 -395.4001   True\n",
      "  Pike Whitefish -187.7059 0.7952  -598.3854  222.9737  False\n",
      " Roach     Smelt -140.8714 0.7772  -442.2412  160.4983  False\n",
      " Roach Whitefish    378.95 0.0798   -23.6143  781.5143  False\n",
      " Smelt Whitefish  519.8214 0.0058    97.8193  941.8235   True\n",
      "-------------------------------------------------------------\n"
     ]
    }
   ],
   "source": [
    "tukey = pairwise_tukeyhsd(df.Weight,df.Species, alpha=0.05)\n",
    "print(tukey)\n"
   ]
  },
  {
   "cell_type": "code",
   "execution_count": 10,
   "id": "ad6f0226",
   "metadata": {},
   "outputs": [],
   "source": [
    "df['Species'].replace('Pike','Bream',inplace=True)\n",
    "df['Species'].replace('Whitefish','Bream',inplace=True)\n",
    "df['Species'].replace('Roach','Parkki',inplace=True)\n",
    "df['Species'].replace('Smelt','Parkki',inplace=True)"
   ]
  },
  {
   "cell_type": "code",
   "execution_count": 11,
   "id": "7cc50f1f",
   "metadata": {},
   "outputs": [
    {
     "name": "stdout",
     "output_type": "stream",
     "text": [
      "             df        sum_sq       mean_sq          F        PR(>F)\n",
      "Species     2.0  7.127270e+06  3.563635e+06  42.371877  2.006441e-15\n",
      "Residual  156.0  1.312019e+07  8.410378e+04        NaN           NaN\n"
     ]
    }
   ],
   "source": [
    "mod = ols ('Weight~Species',data=df).fit()\n",
    "aov_table =sm.stats.anova_lm(mod,type=2)\n",
    "print(aov_table)\n"
   ]
  },
  {
   "cell_type": "code",
   "execution_count": 12,
   "id": "f3b24a82",
   "metadata": {},
   "outputs": [
    {
     "name": "stdout",
     "output_type": "stream",
     "text": [
      "  Multiple Comparison of Means - Tukey HSD, FWER=0.05   \n",
      "========================================================\n",
      "group1 group2  meandiff p-adj   lower     upper   reject\n",
      "--------------------------------------------------------\n",
      " Bream Parkki -529.5138 0.001  -665.849 -393.1786   True\n",
      " Bream  Perch -256.1745 0.001 -384.7488 -127.6002   True\n",
      "Parkki  Perch  273.3393 0.001  135.9446   410.734   True\n",
      "--------------------------------------------------------\n"
     ]
    }
   ],
   "source": [
    "tukey = pairwise_tukeyhsd(df.Weight,df.Species, alpha=0.05)\n",
    "print(tukey)"
   ]
  },
  {
   "cell_type": "code",
   "execution_count": 13,
   "id": "c33e8c97",
   "metadata": {},
   "outputs": [
    {
     "data": {
      "text/plain": [
       "Bream     58\n",
       "Perch     56\n",
       "Parkki    45\n",
       "Name: Species, dtype: int64"
      ]
     },
     "execution_count": 13,
     "metadata": {},
     "output_type": "execute_result"
    }
   ],
   "source": [
    "df.Species.value_counts()\n"
   ]
  },
  {
   "cell_type": "code",
   "execution_count": 14,
   "id": "aa4d5d9a",
   "metadata": {},
   "outputs": [
    {
     "data": {
      "text/plain": [
       "<AxesSubplot:xlabel='Species', ylabel='Weight'>"
      ]
     },
     "execution_count": 14,
     "metadata": {},
     "output_type": "execute_result"
    },
    {
     "data": {
      "image/png": "[encoded data removed]",
      "text/plain": [
       "<Figure size 432x288 with 1 Axes>"
      ]
     },
     "metadata": {
      "needs_background": "light"
     },
     "output_type": "display_data"
    }
   ],
   "source": [
    "sns.boxplot(x='Species',y='Weight',data = df)"
   ]
  },
  {
   "cell_type": "markdown",
   "id": "2108f44e",
   "metadata": {},
   "source": [
    "good predictor"
   ]
  },
  {
   "cell_type": "code",
   "execution_count": 16,
   "id": "d4825856",
   "metadata": {},
   "outputs": [
    {
     "data": {
      "text/plain": [
       "19.0    6\n",
       "20.0    5\n",
       "22.0    4\n",
       "20.5    4\n",
       "25.4    3\n",
       "       ..\n",
       "33.7    1\n",
       "25.6    1\n",
       "24.1    1\n",
       "22.1    1\n",
       "13.2    1\n",
       "Name: Length1, Length: 116, dtype: int64"
      ]
     },
     "execution_count": 16,
     "metadata": {},
     "output_type": "execute_result"
    }
   ],
   "source": [
    "df.Length1.value_counts()\n"
   ]
  },
  {
   "cell_type": "code",
   "execution_count": 17,
   "id": "d68d7c3b",
   "metadata": {},
   "outputs": [
    {
     "data": {
      "text/plain": [
       "count    159.000000\n",
       "mean      26.247170\n",
       "std        9.996441\n",
       "min        7.500000\n",
       "25%       19.050000\n",
       "50%       25.200000\n",
       "75%       32.700000\n",
       "max       59.000000\n",
       "Name: Length1, dtype: float64"
      ]
     },
     "execution_count": 17,
     "metadata": {},
     "output_type": "execute_result"
    }
   ],
   "source": [
    "df.Length1.describe()"
   ]
  },
  {
   "cell_type": "code",
   "execution_count": 18,
   "id": "9f814246",
   "metadata": {},
   "outputs": [
    {
     "name": "stderr",
     "output_type": "stream",
     "text": [
      "C:\\Anaconda\\lib\\site-packages\\seaborn\\distributions.py:2619: FutureWarning: `distplot` is a deprecated function and will be removed in a future version. Please adapt your code to use either `displot` (a figure-level function with similar flexibility) or `histplot` (an axes-level function for histograms).\n",
      "  warnings.warn(msg, FutureWarning)\n"
     ]
    },
    {
     "data": {
      "text/plain": [
       "<AxesSubplot:xlabel='Length1', ylabel='Density'>"
      ]
     },
     "execution_count": 18,
     "metadata": {},
     "output_type": "execute_result"
    },
    {
     "data": {
      "image/png": "[encoded data removed]",
      "text/plain": [
       "<Figure size 432x288 with 1 Axes>"
      ]
     },
     "metadata": {
      "needs_background": "light"
     },
     "output_type": "display_data"
    }
   ],
   "source": [
    "sns.distplot(df.Length1,color='red')"
   ]
  },
  {
   "cell_type": "code",
   "execution_count": 19,
   "id": "0eef6cad",
   "metadata": {},
   "outputs": [
    {
     "data": {
      "text/plain": [
       "(array([14., 15., 37., 27., 28., 22., 10.,  2.,  1.,  3.]),\n",
       " array([ 7.5 , 12.65, 17.8 , 22.95, 28.1 , 33.25, 38.4 , 43.55, 48.7 ,\n",
       "        53.85, 59.  ]),\n",
       " <BarContainer object of 10 artists>)"
      ]
     },
     "execution_count": 19,
     "metadata": {},
     "output_type": "execute_result"
    },
    {
     "data": {
      "image/png": "[encoded data removed]",
      "text/plain": [
       "<Figure size 432x288 with 1 Axes>"
      ]
     },
     "metadata": {
      "needs_background": "light"
     },
     "output_type": "display_data"
    }
   ],
   "source": [
    "plt.hist(df.Length1)\n"
   ]
  },
  {
   "cell_type": "code",
   "execution_count": 20,
   "id": "8ee33e82",
   "metadata": {},
   "outputs": [
    {
     "name": "stderr",
     "output_type": "stream",
     "text": [
      "C:\\Anaconda\\lib\\site-packages\\seaborn\\_decorators.py:36: FutureWarning: Pass the following variable as a keyword arg: x. From version 0.12, the only valid positional argument will be `data`, and passing other arguments without an explicit keyword will result in an error or misinterpretation.\n",
      "  warnings.warn(\n"
     ]
    },
    {
     "data": {
      "text/plain": [
       "<AxesSubplot:xlabel='Length1'>"
      ]
     },
     "execution_count": 20,
     "metadata": {},
     "output_type": "execute_result"
    },
    {
     "data": {
      "image/png": "[encoded data removed]",
      "text/plain": [
       "<Figure size 432x288 with 1 Axes>"
      ]
     },
     "metadata": {
      "needs_background": "light"
     },
     "output_type": "display_data"
    }
   ],
   "source": [
    "sns.boxplot(df.Length1,color='red')\n"
   ]
  },
  {
   "cell_type": "code",
   "execution_count": 21,
   "id": "d935bac7",
   "metadata": {
    "scrolled": true
   },
   "outputs": [
    {
     "name": "stderr",
     "output_type": "stream",
     "text": [
      "C:\\Anaconda\\lib\\site-packages\\seaborn\\_decorators.py:36: FutureWarning: Pass the following variables as keyword args: x, y. From version 0.12, the only valid positional argument will be `data`, and passing other arguments without an explicit keyword will result in an error or misinterpretation.\n",
      "  warnings.warn(\n"
     ]
    },
    {
     "data": {
      "text/plain": [
       "<AxesSubplot:xlabel='Length1', ylabel='Weight'>"
      ]
     },
     "execution_count": 21,
     "metadata": {},
     "output_type": "execute_result"
    },
    {
     "data": {
      "image/png": "[encoded data removed]",
      "text/plain": [
       "<Figure size 432x288 with 1 Axes>"
      ]
     },
     "metadata": {
      "needs_background": "light"
     },
     "output_type": "display_data"
    }
   ],
   "source": [
    "sns.scatterplot(df.Length1,df.Weight)\n"
   ]
  },
  {
   "cell_type": "code",
   "execution_count": 32,
   "id": "70fad40b",
   "metadata": {},
   "outputs": [
    {
     "data": {
      "text/plain": [
       "13.650000000000002"
      ]
     },
     "execution_count": 32,
     "metadata": {},
     "output_type": "execute_result"
    }
   ],
   "source": [
    "IQR=df.Length1.quantile(0.75)-df.Length1.quantile(0.25)\n",
    "IQR"
   ]
  },
  {
   "cell_type": "code",
   "execution_count": 33,
   "id": "778640c2",
   "metadata": {},
   "outputs": [
    {
     "data": {
      "text/plain": [
       "53.175000000000004"
      ]
     },
     "execution_count": 33,
     "metadata": {},
     "output_type": "execute_result"
    }
   ],
   "source": [
    "upper_limit=df.Length1.quantile(0.75)+(1.5*IQR)\n",
    "upper_limit"
   ]
  },
  {
   "cell_type": "code",
   "execution_count": 34,
   "id": "a48101fb",
   "metadata": {},
   "outputs": [
    {
     "data": {
      "text/plain": [
       "4"
      ]
     },
     "execution_count": 34,
     "metadata": {},
     "output_type": "execute_result"
    }
   ],
   "source": [
    "len(df.Length1[df.Length1>51.8125])\n"
   ]
  },
  {
   "cell_type": "code",
   "execution_count": 35,
   "id": "5c54c5cc",
   "metadata": {},
   "outputs": [],
   "source": [
    "df=df[df['Length1']<=51.8125]\n"
   ]
  },
  {
   "cell_type": "code",
   "execution_count": 36,
   "id": "dfb0c4ab",
   "metadata": {},
   "outputs": [
    {
     "name": "stderr",
     "output_type": "stream",
     "text": [
      "C:\\Anaconda\\lib\\site-packages\\seaborn\\_decorators.py:36: FutureWarning: Pass the following variable as a keyword arg: x. From version 0.12, the only valid positional argument will be `data`, and passing other arguments without an explicit keyword will result in an error or misinterpretation.\n",
      "  warnings.warn(\n"
     ]
    },
    {
     "data": {
      "text/plain": [
       "<AxesSubplot:xlabel='Length1'>"
      ]
     },
     "execution_count": 36,
     "metadata": {},
     "output_type": "execute_result"
    },
    {
     "data": {
      "image/png": "[encoded data removed]",
      "text/plain": [
       "<Figure size 432x288 with 1 Axes>"
      ]
     },
     "metadata": {
      "needs_background": "light"
     },
     "output_type": "display_data"
    }
   ],
   "source": [
    "sns.boxplot(df.Length1,color='red')\n"
   ]
  },
  {
   "cell_type": "code",
   "execution_count": 37,
   "id": "901249a0",
   "metadata": {},
   "outputs": [
    {
     "data": {
      "text/plain": [
       "array([[1.        , 0.89017262],\n",
       "       [0.89017262, 1.        ]])"
      ]
     },
     "execution_count": 37,
     "metadata": {},
     "output_type": "execute_result"
    }
   ],
   "source": [
    "np.corrcoef(df.Length1, df.Weight)\n"
   ]
  },
  {
   "cell_type": "code",
   "execution_count": 38,
   "id": "daafb1a7",
   "metadata": {},
   "outputs": [
    {
     "data": {
      "text/plain": [
       "<seaborn.axisgrid.JointGrid at 0x29f521faf40>"
      ]
     },
     "execution_count": 38,
     "metadata": {},
     "output_type": "execute_result"
    },
    {
     "data": {
      "image/png": "[encoded data removed]",
      "text/plain": [
       "<Figure size 432x432 with 3 Axes>"
      ]
     },
     "metadata": {
      "needs_background": "light"
     },
     "output_type": "display_data"
    }
   ],
   "source": [
    "sns.jointplot(x='Length1',y='Weight',data=df,kind='reg')\n"
   ]
  },
  {
   "cell_type": "markdown",
   "id": "5e2ed581",
   "metadata": {},
   "source": [
    "# 3rd column  Length2\n"
   ]
  },
  {
   "cell_type": "code",
   "execution_count": 39,
   "id": "7a8042e9",
   "metadata": {},
   "outputs": [
    {
     "data": {
      "text/html": [
       "<div>\n",
       "<style scoped>\n",
       "    .dataframe tbody tr th:only-of-type {\n",
       "        vertical-align: middle;\n",
       "    }\n",
       "\n",
       "    .dataframe tbody tr th {\n",
       "        vertical-align: top;\n",
       "    }\n",
       "\n",
       "    .dataframe thead th {\n",
       "        text-align: right;\n",
       "    }\n",
       "</style>\n",
       "<table border=\"1\" class=\"dataframe\">\n",
       "  <thead>\n",
       "    <tr style=\"text-align: right;\">\n",
       "      <th></th>\n",
       "      <th>index</th>\n",
       "      <th>Length2</th>\n",
       "    </tr>\n",
       "  </thead>\n",
       "  <tbody>\n",
       "    <tr>\n",
       "      <th>0</th>\n",
       "      <td>count</td>\n",
       "      <td>155.000000</td>\n",
       "    </tr>\n",
       "    <tr>\n",
       "      <th>1</th>\n",
       "      <td>mean</td>\n",
       "      <td>27.604516</td>\n",
       "    </tr>\n",
       "    <tr>\n",
       "      <th>2</th>\n",
       "      <td>std</td>\n",
       "      <td>9.555969</td>\n",
       "    </tr>\n",
       "    <tr>\n",
       "      <th>3</th>\n",
       "      <td>min</td>\n",
       "      <td>8.400000</td>\n",
       "    </tr>\n",
       "    <tr>\n",
       "      <th>4</th>\n",
       "      <td>25%</td>\n",
       "      <td>21.000000</td>\n",
       "    </tr>\n",
       "    <tr>\n",
       "      <th>5</th>\n",
       "      <td>50%</td>\n",
       "      <td>26.500000</td>\n",
       "    </tr>\n",
       "    <tr>\n",
       "      <th>6</th>\n",
       "      <td>75%</td>\n",
       "      <td>35.000000</td>\n",
       "    </tr>\n",
       "    <tr>\n",
       "      <th>7</th>\n",
       "      <td>max</td>\n",
       "      <td>51.700000</td>\n",
       "    </tr>\n",
       "  </tbody>\n",
       "</table>\n",
       "</div>"
      ],
      "text/plain": [
       "   index     Length2\n",
       "0  count  155.000000\n",
       "1   mean   27.604516\n",
       "2    std    9.555969\n",
       "3    min    8.400000\n",
       "4    25%   21.000000\n",
       "5    50%   26.500000\n",
       "6    75%   35.000000\n",
       "7    max   51.700000"
      ]
     },
     "execution_count": 39,
     "metadata": {},
     "output_type": "execute_result"
    }
   ],
   "source": [
    "df.Length2.describe().reset_index()\n"
   ]
  },
  {
   "cell_type": "code",
   "execution_count": 40,
   "id": "546d903e",
   "metadata": {},
   "outputs": [
    {
     "data": {
      "text/plain": [
       "22.0    7\n",
       "35.0    6\n",
       "22.5    5\n",
       "40.0    5\n",
       "21.0    4\n",
       "       ..\n",
       "18.7    1\n",
       "19.6    1\n",
       "21.3    1\n",
       "22.7    1\n",
       "14.3    1\n",
       "Name: Length2, Length: 90, dtype: int64"
      ]
     },
     "execution_count": 40,
     "metadata": {},
     "output_type": "execute_result"
    }
   ],
   "source": [
    "df.Length2.value_counts()\n"
   ]
  },
  {
   "cell_type": "code",
   "execution_count": 41,
   "id": "99fe0721",
   "metadata": {},
   "outputs": [
    {
     "data": {
      "text/plain": [
       "(array([12.,  9., 22., 28., 22., 18., 21., 17.,  4.,  2.]),\n",
       " array([ 8.4 , 12.73, 17.06, 21.39, 25.72, 30.05, 34.38, 38.71, 43.04,\n",
       "        47.37, 51.7 ]),\n",
       " <BarContainer object of 10 artists>)"
      ]
     },
     "execution_count": 41,
     "metadata": {},
     "output_type": "execute_result"
    },
    {
     "data": {
      "image/png": "[encoded data removed]",
      "text/plain": [
       "<Figure size 432x288 with 1 Axes>"
      ]
     },
     "metadata": {
      "needs_background": "light"
     },
     "output_type": "display_data"
    }
   ],
   "source": [
    "plt.hist(df.Length2)"
   ]
  },
  {
   "cell_type": "code",
   "execution_count": 42,
   "id": "5429a8ba",
   "metadata": {},
   "outputs": [
    {
     "name": "stderr",
     "output_type": "stream",
     "text": [
      "C:\\Anaconda\\lib\\site-packages\\seaborn\\distributions.py:2619: FutureWarning: `distplot` is a deprecated function and will be removed in a future version. Please adapt your code to use either `displot` (a figure-level function with similar flexibility) or `histplot` (an axes-level function for histograms).\n",
      "  warnings.warn(msg, FutureWarning)\n"
     ]
    },
    {
     "data": {
      "text/plain": [
       "<AxesSubplot:xlabel='Length2', ylabel='Density'>"
      ]
     },
     "execution_count": 42,
     "metadata": {},
     "output_type": "execute_result"
    },
    {
     "data": {
      "image/png": "[encoded data removed]",
      "text/plain": [
       "<Figure size 432x288 with 1 Axes>"
      ]
     },
     "metadata": {
      "needs_background": "light"
     },
     "output_type": "display_data"
    }
   ],
   "source": [
    "sns.distplot(df.Length2,color='red')\n"
   ]
  },
  {
   "cell_type": "code",
   "execution_count": 43,
   "id": "a69cdc78",
   "metadata": {},
   "outputs": [
    {
     "name": "stderr",
     "output_type": "stream",
     "text": [
      "C:\\Anaconda\\lib\\site-packages\\seaborn\\_decorators.py:36: FutureWarning: Pass the following variable as a keyword arg: x. From version 0.12, the only valid positional argument will be `data`, and passing other arguments without an explicit keyword will result in an error or misinterpretation.\n",
      "  warnings.warn(\n"
     ]
    },
    {
     "data": {
      "text/plain": [
       "<AxesSubplot:xlabel='Length2'>"
      ]
     },
     "execution_count": 43,
     "metadata": {},
     "output_type": "execute_result"
    },
    {
     "data": {
      "image/png": "[encoded data removed]",
      "text/plain": [
       "<Figure size 432x288 with 1 Axes>"
      ]
     },
     "metadata": {
      "needs_background": "light"
     },
     "output_type": "display_data"
    }
   ],
   "source": [
    "sns.boxplot(df.Length2,color='red')\n"
   ]
  },
  {
   "cell_type": "code",
   "execution_count": 44,
   "id": "bb6fdb70",
   "metadata": {},
   "outputs": [
    {
     "name": "stderr",
     "output_type": "stream",
     "text": [
      "C:\\Anaconda\\lib\\site-packages\\seaborn\\_decorators.py:36: FutureWarning: Pass the following variables as keyword args: x, y. From version 0.12, the only valid positional argument will be `data`, and passing other arguments without an explicit keyword will result in an error or misinterpretation.\n",
      "  warnings.warn(\n"
     ]
    },
    {
     "data": {
      "text/plain": [
       "<AxesSubplot:xlabel='Length2', ylabel='Weight'>"
      ]
     },
     "execution_count": 44,
     "metadata": {},
     "output_type": "execute_result"
    },
    {
     "data": {
      "image/png": "[encoded data removed]",
      "text/plain": [
       "<Figure size 432x288 with 1 Axes>"
      ]
     },
     "metadata": {
      "needs_background": "light"
     },
     "output_type": "display_data"
    }
   ],
   "source": [
    "sns.scatterplot(df.Length2,df.Weight)\n"
   ]
  },
  {
   "cell_type": "code",
   "execution_count": 45,
   "id": "677a2e0f",
   "metadata": {},
   "outputs": [
    {
     "data": {
      "text/plain": [
       "<seaborn.axisgrid.JointGrid at 0x29f52452a30>"
      ]
     },
     "execution_count": 45,
     "metadata": {},
     "output_type": "execute_result"
    },
    {
     "data": {
      "image/png": "[encoded data removed]",
      "text/plain": [
       "<Figure size 432x432 with 3 Axes>"
      ]
     },
     "metadata": {
      "needs_background": "light"
     },
     "output_type": "display_data"
    }
   ],
   "source": [
    "sns.jointplot(x='Length2',y='Weight',data=df,kind='reg')\n"
   ]
  },
  {
   "cell_type": "code",
   "execution_count": 47,
   "id": "5f5ba1dd",
   "metadata": {},
   "outputs": [
    {
     "data": {
      "text/plain": [
       "14.0"
      ]
     },
     "execution_count": 47,
     "metadata": {},
     "output_type": "execute_result"
    }
   ],
   "source": [
    "IQR=df.Length2.quantile(0.75)-df.Length2.quantile(0.25)\n",
    "IQR"
   ]
  },
  {
   "cell_type": "code",
   "execution_count": 48,
   "id": "309099a6",
   "metadata": {},
   "outputs": [
    {
     "data": {
      "text/plain": [
       "56.0"
      ]
     },
     "execution_count": 48,
     "metadata": {},
     "output_type": "execute_result"
    }
   ],
   "source": [
    "upper_limit=df.Length2.quantile(0.75)+(1.5*IQR)\n",
    "upper_limit"
   ]
  },
  {
   "cell_type": "code",
   "execution_count": 49,
   "id": "36fd2dd2",
   "metadata": {},
   "outputs": [
    {
     "data": {
      "text/plain": [
       "array([[1.        , 0.89441472],\n",
       "       [0.89441472, 1.        ]])"
      ]
     },
     "execution_count": 49,
     "metadata": {},
     "output_type": "execute_result"
    }
   ],
   "source": [
    "np.corrcoef(df.Length2, df.Weight)"
   ]
  },
  {
   "cell_type": "code",
   "execution_count": 50,
   "id": "0c0a3836",
   "metadata": {},
   "outputs": [
    {
     "data": {
      "text/plain": [
       "0"
      ]
     },
     "execution_count": 50,
     "metadata": {},
     "output_type": "execute_result"
    }
   ],
   "source": [
    "len(df.Length2[df.Length2>56])\n"
   ]
  },
  {
   "cell_type": "code",
   "execution_count": 51,
   "id": "e47620e0",
   "metadata": {},
   "outputs": [
    {
     "data": {
      "text/plain": [
       "count    155.000000\n",
       "mean      30.383226\n",
       "std       10.468442\n",
       "min        8.800000\n",
       "25%       22.950000\n",
       "50%       29.200000\n",
       "75%       39.350000\n",
       "max       55.100000\n",
       "Name: Length3, dtype: float64"
      ]
     },
     "execution_count": 51,
     "metadata": {},
     "output_type": "execute_result"
    }
   ],
   "source": [
    "df.Length3.describe()\n"
   ]
  },
  {
   "cell_type": "code",
   "execution_count": 52,
   "id": "2d526d27",
   "metadata": {},
   "outputs": [
    {
     "data": {
      "text/plain": [
       "23.5    5\n",
       "34.0    3\n",
       "22.5    3\n",
       "45.5    3\n",
       "36.2    3\n",
       "       ..\n",
       "26.8    1\n",
       "26.7    1\n",
       "27.2    1\n",
       "25.3    1\n",
       "15.2    1\n",
       "Name: Length3, Length: 121, dtype: int64"
      ]
     },
     "execution_count": 52,
     "metadata": {},
     "output_type": "execute_result"
    }
   ],
   "source": [
    "df.Length3.value_counts()\n"
   ]
  },
  {
   "cell_type": "code",
   "execution_count": 53,
   "id": "ecb4e852",
   "metadata": {},
   "outputs": [
    {
     "data": {
      "text/plain": [
       "(array([11., 10., 16., 31., 19., 15., 25., 20.,  6.,  2.]),\n",
       " array([ 8.8 , 13.43, 18.06, 22.69, 27.32, 31.95, 36.58, 41.21, 45.84,\n",
       "        50.47, 55.1 ]),\n",
       " <BarContainer object of 10 artists>)"
      ]
     },
     "execution_count": 53,
     "metadata": {},
     "output_type": "execute_result"
    },
    {
     "data": {
      "image/png": "[encoded data removed]",
      "text/plain": [
       "<Figure size 432x288 with 1 Axes>"
      ]
     },
     "metadata": {
      "needs_background": "light"
     },
     "output_type": "display_data"
    }
   ],
   "source": [
    "plt.hist(df.Length3)\n"
   ]
  },
  {
   "cell_type": "code",
   "execution_count": 54,
   "id": "99a950d2",
   "metadata": {},
   "outputs": [
    {
     "name": "stderr",
     "output_type": "stream",
     "text": [
      "C:\\Anaconda\\lib\\site-packages\\seaborn\\distributions.py:2619: FutureWarning: `distplot` is a deprecated function and will be removed in a future version. Please adapt your code to use either `displot` (a figure-level function with similar flexibility) or `histplot` (an axes-level function for histograms).\n",
      "  warnings.warn(msg, FutureWarning)\n"
     ]
    },
    {
     "data": {
      "text/plain": [
       "<AxesSubplot:xlabel='Length3', ylabel='Density'>"
      ]
     },
     "execution_count": 54,
     "metadata": {},
     "output_type": "execute_result"
    },
    {
     "data": {
      "image/png": "[encoded data removed]",
      "text/plain": [
       "<Figure size 432x288 with 1 Axes>"
      ]
     },
     "metadata": {
      "needs_background": "light"
     },
     "output_type": "display_data"
    }
   ],
   "source": [
    "sns.distplot(df.Length3,color='red')\n"
   ]
  },
  {
   "cell_type": "code",
   "execution_count": 55,
   "id": "200b44ae",
   "metadata": {},
   "outputs": [
    {
     "name": "stderr",
     "output_type": "stream",
     "text": [
      "C:\\Anaconda\\lib\\site-packages\\seaborn\\_decorators.py:36: FutureWarning: Pass the following variable as a keyword arg: x. From version 0.12, the only valid positional argument will be `data`, and passing other arguments without an explicit keyword will result in an error or misinterpretation.\n",
      "  warnings.warn(\n"
     ]
    },
    {
     "data": {
      "text/plain": [
       "<AxesSubplot:xlabel='Length3'>"
      ]
     },
     "execution_count": 55,
     "metadata": {},
     "output_type": "execute_result"
    },
    {
     "data": {
      "image/png": "[encoded data removed]",
      "text/plain": [
       "<Figure size 432x288 with 1 Axes>"
      ]
     },
     "metadata": {
      "needs_background": "light"
     },
     "output_type": "display_data"
    }
   ],
   "source": [
    "sns.boxplot(df.Length3,color='red')\n"
   ]
  },
  {
   "cell_type": "code",
   "execution_count": 56,
   "id": "000e8e4a",
   "metadata": {},
   "outputs": [
    {
     "name": "stderr",
     "output_type": "stream",
     "text": [
      "C:\\Anaconda\\lib\\site-packages\\seaborn\\_decorators.py:36: FutureWarning: Pass the following variables as keyword args: x, y. From version 0.12, the only valid positional argument will be `data`, and passing other arguments without an explicit keyword will result in an error or misinterpretation.\n",
      "  warnings.warn(\n"
     ]
    },
    {
     "data": {
      "text/plain": [
       "<AxesSubplot:xlabel='Length3', ylabel='Weight'>"
      ]
     },
     "execution_count": 56,
     "metadata": {},
     "output_type": "execute_result"
    },
    {
     "data": {
      "image/png": "[encoded data removed]",
      "text/plain": [
       "<Figure size 432x288 with 1 Axes>"
      ]
     },
     "metadata": {
      "needs_background": "light"
     },
     "output_type": "display_data"
    }
   ],
   "source": [
    "sns.scatterplot(df.Length3,df.Weight)\n"
   ]
  },
  {
   "cell_type": "code",
   "execution_count": 57,
   "id": "87ceb070",
   "metadata": {
    "scrolled": true
   },
   "outputs": [
    {
     "data": {
      "text/plain": [
       "<seaborn.axisgrid.JointGrid at 0x29f537e6640>"
      ]
     },
     "execution_count": 57,
     "metadata": {},
     "output_type": "execute_result"
    },
    {
     "data": {
      "image/png": "[encoded data removed]",
      "text/plain": [
       "<Figure size 432x432 with 3 Axes>"
      ]
     },
     "metadata": {
      "needs_background": "light"
     },
     "output_type": "display_data"
    }
   ],
   "source": [
    "sns.jointplot(x='Length3',y='Weight',data=df,kind='reg')\n"
   ]
  },
  {
   "cell_type": "code",
   "execution_count": 58,
   "id": "a8db0e73",
   "metadata": {},
   "outputs": [
    {
     "data": {
      "text/plain": [
       "16.39999999999999"
      ]
     },
     "execution_count": 58,
     "metadata": {},
     "output_type": "execute_result"
    }
   ],
   "source": [
    "IQR=df.Length3.quantile(0.75)-df.Length3.quantile(0.25)\n",
    "IQR"
   ]
  },
  {
   "cell_type": "code",
   "execution_count": 59,
   "id": "46b61bbf",
   "metadata": {},
   "outputs": [
    {
     "data": {
      "text/plain": [
       "63.94999999999998"
      ]
     },
     "execution_count": 59,
     "metadata": {},
     "output_type": "execute_result"
    }
   ],
   "source": [
    "upper_limit=df.Length3.quantile(0.75)+(1.5*IQR)\n",
    "upper_limit"
   ]
  },
  {
   "cell_type": "code",
   "execution_count": 60,
   "id": "1ce69d50",
   "metadata": {},
   "outputs": [
    {
     "data": {
      "text/plain": [
       "0"
      ]
     },
     "execution_count": 60,
     "metadata": {},
     "output_type": "execute_result"
    }
   ],
   "source": [
    "len(df.Length3[df.Length3>63.949])\n"
   ]
  },
  {
   "cell_type": "code",
   "execution_count": 61,
   "id": "c5873f1c",
   "metadata": {},
   "outputs": [
    {
     "data": {
      "text/plain": [
       "array([[1.        , 0.90257627],\n",
       "       [0.90257627, 1.        ]])"
      ]
     },
     "execution_count": 61,
     "metadata": {},
     "output_type": "execute_result"
    }
   ],
   "source": [
    "np.corrcoef(df.Length3, df.Weight)\n"
   ]
  },
  {
   "cell_type": "code",
   "execution_count": 62,
   "id": "ed52755f",
   "metadata": {},
   "outputs": [
    {
     "data": {
      "text/plain": [
       "count    155.000000\n",
       "mean       8.939934\n",
       "std        4.336074\n",
       "min        1.728400\n",
       "25%        5.926950\n",
       "50%        7.615600\n",
       "75%       12.379300\n",
       "max       18.957000\n",
       "Name: Height, dtype: float64"
      ]
     },
     "execution_count": 62,
     "metadata": {},
     "output_type": "execute_result"
    }
   ],
   "source": [
    "df.Height.describe()\n"
   ]
  },
  {
   "cell_type": "code",
   "execution_count": 63,
   "id": "360a10a2",
   "metadata": {},
   "outputs": [
    {
     "data": {
      "text/plain": [
       "11.1366    2\n",
       "5.6925     2\n",
       "2.2139     2\n",
       "6.1100     2\n",
       "11.4884    1\n",
       "          ..\n",
       "7.0866     1\n",
       "8.8768     1\n",
       "8.5680     1\n",
       "9.4850     1\n",
       "2.9322     1\n",
       "Name: Height, Length: 151, dtype: int64"
      ]
     },
     "execution_count": 63,
     "metadata": {},
     "output_type": "execute_result"
    }
   ],
   "source": [
    "df.Height.value_counts()\n"
   ]
  },
  {
   "cell_type": "code",
   "execution_count": 64,
   "id": "17539a1d",
   "metadata": {},
   "outputs": [
    {
     "data": {
      "text/plain": [
       "(array([15.,  7., 40., 26.,  9., 17., 14., 13.,  8.,  6.]),\n",
       " array([ 1.7284 ,  3.45126,  5.17412,  6.89698,  8.61984, 10.3427 ,\n",
       "        12.06556, 13.78842, 15.51128, 17.23414, 18.957  ]),\n",
       " <BarContainer object of 10 artists>)"
      ]
     },
     "execution_count": 64,
     "metadata": {},
     "output_type": "execute_result"
    },
    {
     "data": {
      "image/png": "[encoded data removed]",
      "text/plain": [
       "<Figure size 432x288 with 1 Axes>"
      ]
     },
     "metadata": {
      "needs_background": "light"
     },
     "output_type": "display_data"
    }
   ],
   "source": [
    "plt.hist(df.Height)\n"
   ]
  },
  {
   "cell_type": "code",
   "execution_count": 65,
   "id": "af558274",
   "metadata": {},
   "outputs": [
    {
     "name": "stderr",
     "output_type": "stream",
     "text": [
      "C:\\Anaconda\\lib\\site-packages\\seaborn\\_decorators.py:36: FutureWarning: Pass the following variable as a keyword arg: x. From version 0.12, the only valid positional argument will be `data`, and passing other arguments without an explicit keyword will result in an error or misinterpretation.\n",
      "  warnings.warn(\n"
     ]
    },
    {
     "data": {
      "text/plain": [
       "<AxesSubplot:xlabel='Height'>"
      ]
     },
     "execution_count": 65,
     "metadata": {},
     "output_type": "execute_result"
    },
    {
     "data": {
      "image/png": "[encoded data removed]",
      "text/plain": [
       "<Figure size 432x288 with 1 Axes>"
      ]
     },
     "metadata": {
      "needs_background": "light"
     },
     "output_type": "display_data"
    }
   ],
   "source": [
    "sns.boxplot(df.Height,color='red')\n"
   ]
  },
  {
   "cell_type": "code",
   "execution_count": 66,
   "id": "8a27f244",
   "metadata": {},
   "outputs": [
    {
     "data": {
      "text/plain": [
       "6.452350000000001"
      ]
     },
     "execution_count": 66,
     "metadata": {},
     "output_type": "execute_result"
    }
   ],
   "source": [
    "IQR=df.Height.quantile(0.75)-df.Height.quantile(0.25)\n",
    "IQR"
   ]
  },
  {
   "cell_type": "code",
   "execution_count": 67,
   "id": "2cad13e6",
   "metadata": {},
   "outputs": [
    {
     "data": {
      "text/plain": [
       "22.057825"
      ]
     },
     "execution_count": 67,
     "metadata": {},
     "output_type": "execute_result"
    }
   ],
   "source": [
    "upper_limit=df.Height.quantile(0.75)+(1.5*IQR)\n",
    "upper_limit"
   ]
  },
  {
   "cell_type": "code",
   "execution_count": 68,
   "id": "c89f65af",
   "metadata": {},
   "outputs": [
    {
     "data": {
      "text/plain": [
       "0"
      ]
     },
     "execution_count": 68,
     "metadata": {},
     "output_type": "execute_result"
    }
   ],
   "source": [
    "len(df.Height[df.Height>22.05])\n"
   ]
  },
  {
   "cell_type": "code",
   "execution_count": 69,
   "id": "99927dac",
   "metadata": {},
   "outputs": [
    {
     "data": {
      "text/plain": [
       "array([[1.        , 0.81523734],\n",
       "       [0.81523734, 1.        ]])"
      ]
     },
     "execution_count": 69,
     "metadata": {},
     "output_type": "execute_result"
    }
   ],
   "source": [
    "np.corrcoef(df.Height, df.Weight)"
   ]
  },
  {
   "cell_type": "code",
   "execution_count": 70,
   "id": "db99c806",
   "metadata": {},
   "outputs": [
    {
     "data": {
      "text/html": [
       "<div>\n",
       "<style scoped>\n",
       "    .dataframe tbody tr th:only-of-type {\n",
       "        vertical-align: middle;\n",
       "    }\n",
       "\n",
       "    .dataframe tbody tr th {\n",
       "        vertical-align: top;\n",
       "    }\n",
       "\n",
       "    .dataframe thead th {\n",
       "        text-align: right;\n",
       "    }\n",
       "</style>\n",
       "<table border=\"1\" class=\"dataframe\">\n",
       "  <thead>\n",
       "    <tr style=\"text-align: right;\">\n",
       "      <th></th>\n",
       "      <th>Weight</th>\n",
       "      <th>Length1</th>\n",
       "      <th>Length2</th>\n",
       "      <th>Length3</th>\n",
       "      <th>Height</th>\n",
       "      <th>Width</th>\n",
       "    </tr>\n",
       "  </thead>\n",
       "  <tbody>\n",
       "    <tr>\n",
       "      <th>Weight</th>\n",
       "      <td>1.000000</td>\n",
       "      <td>0.890173</td>\n",
       "      <td>0.894415</td>\n",
       "      <td>0.902576</td>\n",
       "      <td>0.815237</td>\n",
       "      <td>0.925664</td>\n",
       "    </tr>\n",
       "    <tr>\n",
       "      <th>Length1</th>\n",
       "      <td>0.890173</td>\n",
       "      <td>1.000000</td>\n",
       "      <td>0.999385</td>\n",
       "      <td>0.990205</td>\n",
       "      <td>0.688050</td>\n",
       "      <td>0.891260</td>\n",
       "    </tr>\n",
       "    <tr>\n",
       "      <th>Length2</th>\n",
       "      <td>0.894415</td>\n",
       "      <td>0.999385</td>\n",
       "      <td>1.000000</td>\n",
       "      <td>0.992765</td>\n",
       "      <td>0.704041</td>\n",
       "      <td>0.897855</td>\n",
       "    </tr>\n",
       "    <tr>\n",
       "      <th>Length3</th>\n",
       "      <td>0.902576</td>\n",
       "      <td>0.990205</td>\n",
       "      <td>0.992765</td>\n",
       "      <td>1.000000</td>\n",
       "      <td>0.768038</td>\n",
       "      <td>0.898315</td>\n",
       "    </tr>\n",
       "    <tr>\n",
       "      <th>Height</th>\n",
       "      <td>0.815237</td>\n",
       "      <td>0.688050</td>\n",
       "      <td>0.704041</td>\n",
       "      <td>0.768038</td>\n",
       "      <td>1.000000</td>\n",
       "      <td>0.803268</td>\n",
       "    </tr>\n",
       "    <tr>\n",
       "      <th>Width</th>\n",
       "      <td>0.925664</td>\n",
       "      <td>0.891260</td>\n",
       "      <td>0.897855</td>\n",
       "      <td>0.898315</td>\n",
       "      <td>0.803268</td>\n",
       "      <td>1.000000</td>\n",
       "    </tr>\n",
       "  </tbody>\n",
       "</table>\n",
       "</div>"
      ],
      "text/plain": [
       "           Weight   Length1   Length2   Length3    Height     Width\n",
       "Weight   1.000000  0.890173  0.894415  0.902576  0.815237  0.925664\n",
       "Length1  0.890173  1.000000  0.999385  0.990205  0.688050  0.891260\n",
       "Length2  0.894415  0.999385  1.000000  0.992765  0.704041  0.897855\n",
       "Length3  0.902576  0.990205  0.992765  1.000000  0.768038  0.898315\n",
       "Height   0.815237  0.688050  0.704041  0.768038  1.000000  0.803268\n",
       "Width    0.925664  0.891260  0.897855  0.898315  0.803268  1.000000"
      ]
     },
     "execution_count": 70,
     "metadata": {},
     "output_type": "execute_result"
    }
   ],
   "source": [
    "corr = df.corr()\n",
    "corr"
   ]
  },
  {
   "cell_type": "code",
   "execution_count": 71,
   "id": "174c09e4",
   "metadata": {},
   "outputs": [
    {
     "data": {
      "text/plain": [
       "<AxesSubplot:>"
      ]
     },
     "execution_count": 71,
     "metadata": {},
     "output_type": "execute_result"
    },
    {
     "data": {
      "image/png": "[encoded data removed]",
      "text/plain": [
       "<Figure size 432x288 with 2 Axes>"
      ]
     },
     "metadata": {
      "needs_background": "light"
     },
     "output_type": "display_data"
    }
   ],
   "source": [
    "sns.heatmap(corr,annot=True)\n"
   ]
  },
  {
   "cell_type": "code",
   "execution_count": 72,
   "id": "fa20732f",
   "metadata": {},
   "outputs": [
    {
     "data": {
      "text/plain": [
       "count    155.000000\n",
       "mean       4.358886\n",
       "std        1.664295\n",
       "min        1.047600\n",
       "25%        3.363600\n",
       "50%        4.239000\n",
       "75%        5.373200\n",
       "max        8.142000\n",
       "Name: Width, dtype: float64"
      ]
     },
     "execution_count": 72,
     "metadata": {},
     "output_type": "execute_result"
    }
   ],
   "source": [
    "df.Width.describe()\n"
   ]
  },
  {
   "cell_type": "code",
   "execution_count": 73,
   "id": "61b8cf25",
   "metadata": {},
   "outputs": [
    {
     "data": {
      "text/plain": [
       "3.5250    3\n",
       "1.1484    2\n",
       "4.1440    2\n",
       "3.6240    2\n",
       "4.3350    2\n",
       "         ..\n",
       "3.6312    1\n",
       "4.1272    1\n",
       "3.9060    1\n",
       "4.4968    1\n",
       "1.8792    1\n",
       "Name: Width, Length: 149, dtype: int64"
      ]
     },
     "execution_count": 73,
     "metadata": {},
     "output_type": "execute_result"
    }
   ],
   "source": [
    "df.Width.value_counts()\n"
   ]
  },
  {
   "cell_type": "code",
   "execution_count": 74,
   "id": "713fc334",
   "metadata": {},
   "outputs": [
    {
     "name": "stderr",
     "output_type": "stream",
     "text": [
      "C:\\Anaconda\\lib\\site-packages\\seaborn\\_decorators.py:36: FutureWarning: Pass the following variable as a keyword arg: x. From version 0.12, the only valid positional argument will be `data`, and passing other arguments without an explicit keyword will result in an error or misinterpretation.\n",
      "  warnings.warn(\n"
     ]
    },
    {
     "data": {
      "text/plain": [
       "<AxesSubplot:xlabel='Width'>"
      ]
     },
     "execution_count": 74,
     "metadata": {},
     "output_type": "execute_result"
    },
    {
     "data": {
      "image/png": "[encoded data removed]",
      "text/plain": [
       "<Figure size 432x288 with 1 Axes>"
      ]
     },
     "metadata": {
      "needs_background": "light"
     },
     "output_type": "display_data"
    }
   ],
   "source": [
    "sns.boxplot(df.Width,color='red')\n"
   ]
  },
  {
   "cell_type": "code",
   "execution_count": 75,
   "id": "597ab01a",
   "metadata": {},
   "outputs": [
    {
     "data": {
      "text/plain": [
       "(array([13.,  7., 12., 33., 26., 23.,  9., 17., 10.,  5.]),\n",
       " array([1.0476 , 1.75704, 2.46648, 3.17592, 3.88536, 4.5948 , 5.30424,\n",
       "        6.01368, 6.72312, 7.43256, 8.142  ]),\n",
       " <BarContainer object of 10 artists>)"
      ]
     },
     "execution_count": 75,
     "metadata": {},
     "output_type": "execute_result"
    },
    {
     "data": {
      "image/png": "[encoded data removed]",
      "text/plain": [
       "<Figure size 432x288 with 1 Axes>"
      ]
     },
     "metadata": {
      "needs_background": "light"
     },
     "output_type": "display_data"
    }
   ],
   "source": [
    "plt.hist(df.Width)\n"
   ]
  },
  {
   "cell_type": "code",
   "execution_count": 76,
   "id": "608206b9",
   "metadata": {},
   "outputs": [
    {
     "data": {
      "text/plain": [
       "<AxesSubplot:xlabel='Width', ylabel='Weight'>"
      ]
     },
     "execution_count": 76,
     "metadata": {},
     "output_type": "execute_result"
    },
    {
     "data": {
      "image/png": "[encoded data removed]",
      "text/plain": [
       "<Figure size 432x288 with 1 Axes>"
      ]
     },
     "metadata": {
      "needs_background": "light"
     },
     "output_type": "display_data"
    }
   ],
   "source": [
    "sns.scatterplot(x='Width',y='Weight',data=df)\n"
   ]
  },
  {
   "cell_type": "code",
   "execution_count": 77,
   "id": "04c0f537",
   "metadata": {},
   "outputs": [
    {
     "data": {
      "text/plain": [
       "2.0096000000000007"
      ]
     },
     "execution_count": 77,
     "metadata": {},
     "output_type": "execute_result"
    }
   ],
   "source": [
    "IQR=df.Width.quantile(0.75)-df.Width.quantile(0.25)\n",
    "IQR"
   ]
  },
  {
   "cell_type": "code",
   "execution_count": 78,
   "id": "854ad282",
   "metadata": {},
   "outputs": [
    {
     "data": {
      "text/plain": [
       "8.387600000000003"
      ]
     },
     "execution_count": 78,
     "metadata": {},
     "output_type": "execute_result"
    }
   ],
   "source": [
    "upper_limit=df.Width.quantile(0.75)+(1.5*IQR)\n",
    "upper_limit\n"
   ]
  },
  {
   "cell_type": "code",
   "execution_count": 79,
   "id": "2610b3b3",
   "metadata": {},
   "outputs": [
    {
     "data": {
      "text/plain": [
       "0"
      ]
     },
     "execution_count": 79,
     "metadata": {},
     "output_type": "execute_result"
    }
   ],
   "source": [
    "len(df.Width[df.Width>8.38])\n"
   ]
  },
  {
   "cell_type": "code",
   "execution_count": 80,
   "id": "755d81c4",
   "metadata": {},
   "outputs": [
    {
     "data": {
      "text/plain": [
       "array([[1.        , 0.92566439],\n",
       "       [0.92566439, 1.        ]])"
      ]
     },
     "execution_count": 80,
     "metadata": {},
     "output_type": "execute_result"
    }
   ],
   "source": [
    "np.corrcoef(df.Width, df.Weight)\n"
   ]
  },
  {
   "cell_type": "code",
   "execution_count": 81,
   "id": "620b20fc",
   "metadata": {},
   "outputs": [
    {
     "data": {
      "text/html": [
       "<div>\n",
       "<style scoped>\n",
       "    .dataframe tbody tr th:only-of-type {\n",
       "        vertical-align: middle;\n",
       "    }\n",
       "\n",
       "    .dataframe tbody tr th {\n",
       "        vertical-align: top;\n",
       "    }\n",
       "\n",
       "    .dataframe thead th {\n",
       "        text-align: right;\n",
       "    }\n",
       "</style>\n",
       "<table border=\"1\" class=\"dataframe\">\n",
       "  <thead>\n",
       "    <tr style=\"text-align: right;\">\n",
       "      <th></th>\n",
       "      <th>Weight</th>\n",
       "      <th>Length1</th>\n",
       "      <th>Length2</th>\n",
       "      <th>Length3</th>\n",
       "      <th>Height</th>\n",
       "      <th>Width</th>\n",
       "    </tr>\n",
       "  </thead>\n",
       "  <tbody>\n",
       "    <tr>\n",
       "      <th>Weight</th>\n",
       "      <td>1.000000</td>\n",
       "      <td>0.890173</td>\n",
       "      <td>0.894415</td>\n",
       "      <td>0.902576</td>\n",
       "      <td>0.815237</td>\n",
       "      <td>0.925664</td>\n",
       "    </tr>\n",
       "    <tr>\n",
       "      <th>Length1</th>\n",
       "      <td>0.890173</td>\n",
       "      <td>1.000000</td>\n",
       "      <td>0.999385</td>\n",
       "      <td>0.990205</td>\n",
       "      <td>0.688050</td>\n",
       "      <td>0.891260</td>\n",
       "    </tr>\n",
       "    <tr>\n",
       "      <th>Length2</th>\n",
       "      <td>0.894415</td>\n",
       "      <td>0.999385</td>\n",
       "      <td>1.000000</td>\n",
       "      <td>0.992765</td>\n",
       "      <td>0.704041</td>\n",
       "      <td>0.897855</td>\n",
       "    </tr>\n",
       "    <tr>\n",
       "      <th>Length3</th>\n",
       "      <td>0.902576</td>\n",
       "      <td>0.990205</td>\n",
       "      <td>0.992765</td>\n",
       "      <td>1.000000</td>\n",
       "      <td>0.768038</td>\n",
       "      <td>0.898315</td>\n",
       "    </tr>\n",
       "    <tr>\n",
       "      <th>Height</th>\n",
       "      <td>0.815237</td>\n",
       "      <td>0.688050</td>\n",
       "      <td>0.704041</td>\n",
       "      <td>0.768038</td>\n",
       "      <td>1.000000</td>\n",
       "      <td>0.803268</td>\n",
       "    </tr>\n",
       "    <tr>\n",
       "      <th>Width</th>\n",
       "      <td>0.925664</td>\n",
       "      <td>0.891260</td>\n",
       "      <td>0.897855</td>\n",
       "      <td>0.898315</td>\n",
       "      <td>0.803268</td>\n",
       "      <td>1.000000</td>\n",
       "    </tr>\n",
       "  </tbody>\n",
       "</table>\n",
       "</div>"
      ],
      "text/plain": [
       "           Weight   Length1   Length2   Length3    Height     Width\n",
       "Weight   1.000000  0.890173  0.894415  0.902576  0.815237  0.925664\n",
       "Length1  0.890173  1.000000  0.999385  0.990205  0.688050  0.891260\n",
       "Length2  0.894415  0.999385  1.000000  0.992765  0.704041  0.897855\n",
       "Length3  0.902576  0.990205  0.992765  1.000000  0.768038  0.898315\n",
       "Height   0.815237  0.688050  0.704041  0.768038  1.000000  0.803268\n",
       "Width    0.925664  0.891260  0.897855  0.898315  0.803268  1.000000"
      ]
     },
     "execution_count": 81,
     "metadata": {},
     "output_type": "execute_result"
    }
   ],
   "source": [
    "corr = df.corr()\n",
    "corr\n"
   ]
  },
  {
   "cell_type": "code",
   "execution_count": 82,
   "id": "14e0c56c",
   "metadata": {},
   "outputs": [
    {
     "data": {
      "text/plain": [
       "<AxesSubplot:>"
      ]
     },
     "execution_count": 82,
     "metadata": {},
     "output_type": "execute_result"
    },
    {
     "data": {
      "image/png": "[encoded data removed]",
      "text/plain": [
       "<Figure size 432x288 with 2 Axes>"
      ]
     },
     "metadata": {
      "needs_background": "light"
     },
     "output_type": "display_data"
    }
   ],
   "source": [
    "sns.heatmap(corr,annot=True)\n"
   ]
  },
  {
   "cell_type": "code",
   "execution_count": 83,
   "id": "a5985f0f",
   "metadata": {},
   "outputs": [
    {
     "name": "stdout",
     "output_type": "stream",
     "text": [
      "                            OLS Regression Results                            \n",
      "==============================================================================\n",
      "Dep. Variable:                 Weight   R-squared:                       0.894\n",
      "Model:                            OLS   Adj. R-squared:                  0.890\n",
      "Method:                 Least Squares   F-statistic:                     250.0\n",
      "Date:                Mon, 20 Jun 2022   Prob (F-statistic):           1.44e-70\n",
      "Time:                        16:06:08   Log-Likelihood:                -936.36\n",
      "No. Observations:                 155   AIC:                             1885.\n",
      "Df Residuals:                     149   BIC:                             1903.\n",
      "Df Model:                           5                                         \n",
      "Covariance Type:            nonrobust                                         \n",
      "=====================================================================================\n",
      "                        coef    std err          t      P>|t|      [0.025      0.975]\n",
      "-------------------------------------------------------------------------------------\n",
      "Intercept          -513.1054     55.151     -9.304      0.000    -622.085    -404.126\n",
      "Species[T.Parkki]    53.8800     34.901      1.544      0.125     -15.085     122.845\n",
      "Species[T.Perch]     31.8321     36.817      0.865      0.389     -40.919     104.583\n",
      "Length3              12.0180      2.717      4.423      0.000       6.649      17.387\n",
      "Height               13.7794      4.483      3.073      0.003       4.920      22.639\n",
      "Width                84.2425     19.725      4.271      0.000      45.266     123.219\n",
      "==============================================================================\n",
      "Omnibus:                       14.693   Durbin-Watson:                   0.493\n",
      "Prob(Omnibus):                  0.001   Jarque-Bera (JB):               16.936\n",
      "Skew:                           0.807   Prob(JB):                     0.000210\n",
      "Kurtosis:                       2.880   Cond. No.                         290.\n",
      "==============================================================================\n",
      "\n",
      "Notes:\n",
      "[1] Standard Errors assume that the covariance matrix of the errors is correctly specified.\n"
     ]
    }
   ],
   "source": [
    "model=smf.ols(formula='Weight ~Species+Length3+Height+Width ',data=df).fit()\n",
    "print(model.summary())"
   ]
  },
  {
   "cell_type": "markdown",
   "id": "0127f9d0",
   "metadata": {},
   "source": [
    "# R-squared:                       0.894\n"
   ]
  },
  {
   "cell_type": "code",
   "execution_count": 84,
   "id": "ffaeea25",
   "metadata": {},
   "outputs": [],
   "source": [
    "predict = model.predict() # these are predicted values\n",
    "residuals = df.Weight - predict\n"
   ]
  },
  {
   "cell_type": "code",
   "execution_count": 85,
   "id": "899efcbc",
   "metadata": {},
   "outputs": [
    {
     "name": "stdout",
     "output_type": "stream",
     "text": [
      "<class 'pandas.core.frame.DataFrame'>\n",
      "Int64Index: 155 entries, 0 to 158\n",
      "Data columns (total 8 columns):\n",
      " #   Column   Non-Null Count  Dtype  \n",
      "---  ------   --------------  -----  \n",
      " 0   Species  155 non-null    object \n",
      " 1   Weight   155 non-null    float64\n",
      " 2   Length1  155 non-null    float64\n",
      " 3   Length2  155 non-null    float64\n",
      " 4   Length3  155 non-null    float64\n",
      " 5   Height   155 non-null    float64\n",
      " 6   Width    155 non-null    float64\n",
      " 7   predict  155 non-null    float64\n",
      "dtypes: float64(7), object(1)\n",
      "memory usage: 10.9+ KB\n"
     ]
    },
    {
     "name": "stderr",
     "output_type": "stream",
     "text": [
      "C:\\Users\\shahi\\AppData\\Local\\Temp/ipykernel_21924/450750970.py:1: SettingWithCopyWarning: \n",
      "A value is trying to be set on a copy of a slice from a DataFrame.\n",
      "Try using .loc[row_indexer,col_indexer] = value instead\n",
      "\n",
      "See the caveats in the documentation: https://pandas.pydata.org/pandas-docs/stable/user_guide/indexing.html#returning-a-view-versus-a-copy\n",
      "  df['predict'] = predict\n"
     ]
    },
    {
     "data": {
      "text/html": [
       "<div>\n",
       "<style scoped>\n",
       "    .dataframe tbody tr th:only-of-type {\n",
       "        vertical-align: middle;\n",
       "    }\n",
       "\n",
       "    .dataframe tbody tr th {\n",
       "        vertical-align: top;\n",
       "    }\n",
       "\n",
       "    .dataframe thead th {\n",
       "        text-align: right;\n",
       "    }\n",
       "</style>\n",
       "<table border=\"1\" class=\"dataframe\">\n",
       "  <thead>\n",
       "    <tr style=\"text-align: right;\">\n",
       "      <th></th>\n",
       "      <th>Species</th>\n",
       "      <th>Weight</th>\n",
       "      <th>Length1</th>\n",
       "      <th>Length2</th>\n",
       "      <th>Length3</th>\n",
       "      <th>Height</th>\n",
       "      <th>Width</th>\n",
       "      <th>predict</th>\n",
       "    </tr>\n",
       "  </thead>\n",
       "  <tbody>\n",
       "    <tr>\n",
       "      <th>0</th>\n",
       "      <td>Bream</td>\n",
       "      <td>242.0</td>\n",
       "      <td>23.2</td>\n",
       "      <td>25.4</td>\n",
       "      <td>30.0</td>\n",
       "      <td>11.5200</td>\n",
       "      <td>4.0200</td>\n",
       "      <td>344.828042</td>\n",
       "    </tr>\n",
       "    <tr>\n",
       "      <th>1</th>\n",
       "      <td>Bream</td>\n",
       "      <td>290.0</td>\n",
       "      <td>24.0</td>\n",
       "      <td>26.3</td>\n",
       "      <td>31.2</td>\n",
       "      <td>12.4800</td>\n",
       "      <td>4.3056</td>\n",
       "      <td>396.537553</td>\n",
       "    </tr>\n",
       "    <tr>\n",
       "      <th>2</th>\n",
       "      <td>Bream</td>\n",
       "      <td>340.0</td>\n",
       "      <td>23.9</td>\n",
       "      <td>26.5</td>\n",
       "      <td>31.1</td>\n",
       "      <td>12.3778</td>\n",
       "      <td>4.6961</td>\n",
       "      <td>426.824211</td>\n",
       "    </tr>\n",
       "    <tr>\n",
       "      <th>3</th>\n",
       "      <td>Bream</td>\n",
       "      <td>363.0</td>\n",
       "      <td>26.3</td>\n",
       "      <td>29.0</td>\n",
       "      <td>33.5</td>\n",
       "      <td>12.7300</td>\n",
       "      <td>4.4555</td>\n",
       "      <td>440.251710</td>\n",
       "    </tr>\n",
       "    <tr>\n",
       "      <th>4</th>\n",
       "      <td>Bream</td>\n",
       "      <td>430.0</td>\n",
       "      <td>26.5</td>\n",
       "      <td>29.0</td>\n",
       "      <td>34.0</td>\n",
       "      <td>12.4440</td>\n",
       "      <td>5.1340</td>\n",
       "      <td>499.478344</td>\n",
       "    </tr>\n",
       "  </tbody>\n",
       "</table>\n",
       "</div>"
      ],
      "text/plain": [
       "  Species  Weight  Length1  Length2  Length3   Height   Width     predict\n",
       "0   Bream   242.0     23.2     25.4     30.0  11.5200  4.0200  344.828042\n",
       "1   Bream   290.0     24.0     26.3     31.2  12.4800  4.3056  396.537553\n",
       "2   Bream   340.0     23.9     26.5     31.1  12.3778  4.6961  426.824211\n",
       "3   Bream   363.0     26.3     29.0     33.5  12.7300  4.4555  440.251710\n",
       "4   Bream   430.0     26.5     29.0     34.0  12.4440  5.1340  499.478344"
      ]
     },
     "execution_count": 85,
     "metadata": {},
     "output_type": "execute_result"
    }
   ],
   "source": [
    "df['predict'] = predict\n",
    "df.info()\n",
    "df.head()\n",
    "\n"
   ]
  },
  {
   "cell_type": "code",
   "execution_count": 86,
   "id": "56d5f735",
   "metadata": {},
   "outputs": [
    {
     "name": "stdout",
     "output_type": "stream",
     "text": [
      "<class 'pandas.core.frame.DataFrame'>\n",
      "Int64Index: 155 entries, 0 to 158\n",
      "Data columns (total 9 columns):\n",
      " #   Column     Non-Null Count  Dtype  \n",
      "---  ------     --------------  -----  \n",
      " 0   Species    155 non-null    object \n",
      " 1   Weight     155 non-null    float64\n",
      " 2   Length1    155 non-null    float64\n",
      " 3   Length2    155 non-null    float64\n",
      " 4   Length3    155 non-null    float64\n",
      " 5   Height     155 non-null    float64\n",
      " 6   Width      155 non-null    float64\n",
      " 7   predict    155 non-null    float64\n",
      " 8   residuals  155 non-null    float64\n",
      "dtypes: float64(8), object(1)\n",
      "memory usage: 12.1+ KB\n"
     ]
    },
    {
     "name": "stderr",
     "output_type": "stream",
     "text": [
      "C:\\Users\\shahi\\AppData\\Local\\Temp/ipykernel_21924/1587366185.py:1: SettingWithCopyWarning: \n",
      "A value is trying to be set on a copy of a slice from a DataFrame.\n",
      "Try using .loc[row_indexer,col_indexer] = value instead\n",
      "\n",
      "See the caveats in the documentation: https://pandas.pydata.org/pandas-docs/stable/user_guide/indexing.html#returning-a-view-versus-a-copy\n",
      "  df['residuals'] = residuals\n"
     ]
    }
   ],
   "source": [
    "df['residuals'] = residuals\n",
    "df.info()"
   ]
  },
  {
   "cell_type": "code",
   "execution_count": 87,
   "id": "da08f8e4",
   "metadata": {},
   "outputs": [
    {
     "data": {
      "text/plain": [
       "<AxesSubplot:xlabel='predict', ylabel='residuals'>"
      ]
     },
     "execution_count": 87,
     "metadata": {},
     "output_type": "execute_result"
    },
    {
     "data": {
      "image/png": "[encoded data removed]",
      "text/plain": [
       "<Figure size 432x288 with 1 Axes>"
      ]
     },
     "metadata": {
      "needs_background": "light"
     },
     "output_type": "display_data"
    }
   ],
   "source": [
    "sns.scatterplot(x='predict',y='residuals',data=df)"
   ]
  },
  {
   "cell_type": "code",
   "execution_count": 88,
   "id": "460bb21a",
   "metadata": {},
   "outputs": [
    {
     "data": {
      "text/plain": [
       "False    123\n",
       "True      32\n",
       "dtype: int64"
      ]
     },
     "execution_count": 88,
     "metadata": {},
     "output_type": "execute_result"
    }
   ],
   "source": [
    "predictedweights = df.Weight-df.predict\n",
    "(predictedweights > 100).value_counts()\n"
   ]
  },
  {
   "cell_type": "code",
   "execution_count": 89,
   "id": "da8c8713",
   "metadata": {},
   "outputs": [
    {
     "data": {
      "text/plain": [
       "0     -102.828042\n",
       "1     -106.537553\n",
       "2      -86.824211\n",
       "3      -77.251710\n",
       "4      -69.478344\n",
       "          ...    \n",
       "154    164.179606\n",
       "155    169.994930\n",
       "156    168.409795\n",
       "157     82.520433\n",
       "158     85.721561\n",
       "Length: 155, dtype: float64"
      ]
     },
     "execution_count": 89,
     "metadata": {},
     "output_type": "execute_result"
    }
   ],
   "source": [
    "predictedweights\n"
   ]
  },
  {
   "cell_type": "code",
   "execution_count": null,
   "id": "e2ef67f3",
   "metadata": {},
   "outputs": [],
   "source": []
  },
  {
   "cell_type": "code",
   "execution_count": null,
   "id": "89453881",
   "metadata": {},
   "outputs": [],
   "source": []
  },
  {
   "cell_type": "code",
   "execution_count": null,
   "id": "2cd0571b",
   "metadata": {},
   "outputs": [],
   "source": []
  },
  {
   "cell_type": "code",
   "execution_count": null,
   "id": "86287c1b",
   "metadata": {},
   "outputs": [],
   "source": []
  }
 ],
 "metadata": {
  "kernelspec": {
   "display_name": "Python 3 (ipykernel)",
   "language": "python",
   "name": "python3"
  },
  "language_info": {
   "codemirror_mode": {
    "name": "ipython",
    "version": 3
   },
   "file_extension": ".py",
   "mimetype": "text/x-python",
   "name": "python",
   "nbconvert_exporter": "python",
   "pygments_lexer": "ipython3",
   "version": "3.9.13"
  }
 },
 "nbformat": 4,
 "nbformat_minor": 5
}
